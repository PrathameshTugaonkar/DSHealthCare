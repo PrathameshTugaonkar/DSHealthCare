{
 "cells": [
  {
   "cell_type": "code",
   "execution_count": 1,
   "id": "2d60cc73-db3b-472c-9c26-7033193da6fe",
   "metadata": {},
   "outputs": [],
   "source": [
    "import pandas as pd"
   ]
  },
  {
   "cell_type": "code",
   "execution_count": 2,
   "id": "b9a70c74-8aff-4de0-aede-e9cd07f70afa",
   "metadata": {},
   "outputs": [],
   "source": [
    "# Load the EHR data\n",
    "ehr_data = pd.read_csv('ex1data.csv')"
   ]
  },
  {
   "cell_type": "code",
   "execution_count": 3,
   "id": "e8d5a5e6-ed41-42dd-8ff4-0574f97a9664",
   "metadata": {},
   "outputs": [
    {
     "name": "stdout",
     "output_type": "stream",
     "text": [
      "   patient_id         date_of_visit  age  gender     diagnosis\n",
      "0           1  2016-04-29T18:38:08Z   32    Male     Influenza\n",
      "1           2  2018-05-29T18:38:08Z   45  Female  Hypertension\n",
      "2           3  2017-08-29T18:38:08Z   28    Male   Common Cold\n",
      "3           4  2016-01-29T18:38:08Z   62  Female      Diabetes\n",
      "4           5  2023-03-29T18:38:08Z   41    Male  Hypertension\n"
     ]
    }
   ],
   "source": [
    "# Display the first few rows of the DataFrame\n",
    "print(ehr_data.head())"
   ]
  },
  {
   "cell_type": "code",
   "execution_count": 4,
   "id": "bb9b798c-f550-4b95-8fe7-c76fc95478fa",
   "metadata": {},
   "outputs": [],
   "source": [
    "# Data Cleaning"
   ]
  },
  {
   "cell_type": "code",
   "execution_count": 5,
   "id": "e2ffcbc9-05a6-4569-923a-d7db9db1eb72",
   "metadata": {},
   "outputs": [],
   "source": [
    "# Data Transformation\n"
   ]
  },
  {
   "cell_type": "code",
   "execution_count": 6,
   "id": "12e5bc04",
   "metadata": {},
   "outputs": [],
   "source": [
    "#print current data\n"
   ]
  },
  {
   "cell_type": "code",
   "execution_count": 7,
   "id": "fee2e5c0-6106-4829-bc2e-f416c9de7e62",
   "metadata": {},
   "outputs": [],
   "source": [
    "# Save the cleaned and transformed data"
   ]
  },
  {
   "cell_type": "code",
   "execution_count": null,
   "id": "264a4f55-9e22-4c12-8769-d64a6457b953",
   "metadata": {},
   "outputs": [],
   "source": []
  },
  {
   "cell_type": "code",
   "execution_count": null,
   "id": "7ec196c7-871d-4695-ad34-53cbeb6e174e",
   "metadata": {},
   "outputs": [],
   "source": []
  },
  {
   "cell_type": "code",
   "execution_count": null,
   "id": "5d9389d7-2e2b-447f-89ba-ebc6a2f7fcd0",
   "metadata": {},
   "outputs": [],
   "source": []
  },
  {
   "cell_type": "code",
   "execution_count": null,
   "id": "48f42f6b-7479-43e6-8c41-ed913ad47569",
   "metadata": {},
   "outputs": [],
   "source": []
  },
  {
   "cell_type": "code",
   "execution_count": null,
   "id": "28da9d57-ee74-4525-9430-69818057e0c9",
   "metadata": {},
   "outputs": [],
   "source": []
  }
 ],
 "metadata": {
  "kernelspec": {
   "display_name": "Python 3 (ipykernel)",
   "language": "python",
   "name": "python3"
  },
  "language_info": {
   "codemirror_mode": {
    "name": "ipython",
    "version": 3
   },
   "file_extension": ".py",
   "mimetype": "text/x-python",
   "name": "python",
   "nbconvert_exporter": "python",
   "pygments_lexer": "ipython3",
   "version": "3.10.12"
  }
 },
 "nbformat": 4,
 "nbformat_minor": 5
}
